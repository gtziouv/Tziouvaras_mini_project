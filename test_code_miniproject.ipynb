{
 "cells": [
  {
   "cell_type": "code",
   "execution_count": 9,
   "id": "849bbf2b-f728-4aaf-b477-426414b2ae08",
   "metadata": {},
   "outputs": [
    {
     "name": "stderr",
     "output_type": "stream",
     "text": [
      "."
     ]
    },
    {
     "name": "stdout",
     "output_type": "stream",
     "text": [
      "File not found.\n"
     ]
    },
    {
     "data": {
      "image/png": "[encoded data removed]",
      "text/plain": [
       "<Figure size 800x600 with 1 Axes>"
      ]
     },
     "metadata": {},
     "output_type": "display_data"
    },
    {
     "name": "stderr",
     "output_type": "stream",
     "text": [
      "..\n",
      "----------------------------------------------------------------------\n",
      "Ran 3 tests in 0.091s\n",
      "\n",
      "OK\n"
     ]
    },
    {
     "data": {
      "text/plain": [
       "<unittest.main.TestProgram at 0x13854c510>"
      ]
     },
     "execution_count": 9,
     "metadata": {},
     "output_type": "execute_result"
    }
   ],
   "source": [
    "import sys\n",
    "import os\n",
    "import unittest\n",
    "import pandas as pd\n",
    "import statsmodels.api as sm\n",
    "import seaborn as sns\n",
    "import matplotlib.pyplot as plt\n",
    "\n",
    "# Ensure the project directory is in the Python path\n",
    "project_path = os.path.abspath(os.getcwd())  # Adjust if code_miniproject.ipynb is in a subfolder\n",
    "sys.path.append(project_path)\n",
    "\n",
    "try:\n",
    "    import code_miniproject  # This will try to import the notebook as a module using import_ipynb\n",
    "except ModuleNotFoundError:\n",
    "    raise ModuleNotFoundError(\"Could not find 'code_miniproject.ipynb'. Make sure it is in the same directory or adjust the path.\")\n",
    "\n",
    "# Function to load data\n",
    "def load_data(filepath: str) -> pd.DataFrame:\n",
    "    \"\"\"Loads data from an Excel file.\n",
    "    Args:\n",
    "        filepath (str): Path to the Excel file.\n",
    "    Returns:\n",
    "        pd.DataFrame: Loaded data or None if the file does not exist.\n",
    "    \"\"\"\n",
    "    try:\n",
    "        return pd.read_excel(filepath)\n",
    "    except FileNotFoundError:\n",
    "        print(\"File not found.\")\n",
    "        return None\n",
    "\n",
    "# Function to run regression\n",
    "def run_regression(data: pd.DataFrame, dependent_var: str, independent_vars: list):\n",
    "    \"\"\"Performs a linear regression.\n",
    "    Args:\n",
    "        data (pd.DataFrame): The dataset.\n",
    "        dependent_var (str): The dependent variable.\n",
    "        independent_vars (list): List of independent variables.\n",
    "    Returns:\n",
    "        sm.OLS: Fitted regression model.\n",
    "    \"\"\"\n",
    "    X = data[independent_vars]\n",
    "    X = sm.add_constant(X)  # Adds intercept\n",
    "    y = data[dependent_var]\n",
    "    model = sm.OLS(y, X).fit()\n",
    "    return model\n",
    "\n",
    "# Function to plot histogram\n",
    "def plot_histogram(data: pd.DataFrame, column: str, xlabel: str, ylabel: str, title: str):\n",
    "    \"\"\"Plots a histogram.\n",
    "    Args:\n",
    "        data (pd.DataFrame): The dataset.\n",
    "        column (str): Column to plot.\n",
    "        xlabel (str): Label for x-axis.\n",
    "        ylabel (str): Label for y-axis.\n",
    "        title (str): Title of the histogram.\n",
    "    \"\"\"\n",
    "    plt.figure(figsize=(8, 6))\n",
    "    sns.histplot(data[column], kde=True)\n",
    "    plt.xlabel(xlabel)\n",
    "    plt.ylabel(ylabel)\n",
    "    plt.title(title)\n",
    "    plt.show()\n",
    "\n",
    "class TestMiniProject(unittest.TestCase):\n",
    "    def setUp(self):\n",
    "        # Create sample data for testing\n",
    "        self.sample_data = pd.DataFrame({\n",
    "            'fatigue': [1, 2, 3, 4, 5],\n",
    "            'Volume': [10, 20, 30, 40, 50],\n",
    "            'hrs_awake': [6, 7, 8, 9, 10],\n",
    "            'fatigue_levels_driving': [2, 3, 4, 5, 6],\n",
    "            'Avg_ReactionTime': [200, 210, 220, 230, 240]\n",
    "        })\n",
    "\n",
    "    def test_load_data(self):\n",
    "        # Test that loading a missing file returns None\n",
    "        self.assertIsNone(load_data(\"non_existent.xlsx\"))\n",
    "    \n",
    "    def test_regression_output(self):\n",
    "        # Test that regression runs without error\n",
    "        model = run_regression(self.sample_data, 'Avg_ReactionTime', ['fatigue', 'Volume', 'hrs_awake', 'fatigue_levels_driving'])\n",
    "        self.assertIsNotNone(model)\n",
    "        self.assertGreater(len(model.params), 0)  # Ensure regression has parameters\n",
    "    \n",
    "    def test_plot_histogram(self):\n",
    "        # Test that histograms generate without errors\n",
    "        try:\n",
    "            plot_histogram(self.sample_data, 'fatigue', 'Fatigue Levels', 'Frequency', 'Fatigue Distribution')\n",
    "            success = True\n",
    "        except Exception as e:\n",
    "            success = False\n",
    "            print(f\"Plotting error: {e}\")\n",
    "        self.assertTrue(success)\n",
    "\n",
    "# In Jupyter notebooks, to avoid the kernel exiting, we pass exit=False\n",
    "unittest.main(argv=[''], exit=False)\n"
   ]
  },
  {
   "cell_type": "code",
   "execution_count": null,
   "id": "23512381-5768-40bd-aa31-d8046f7ea0c9",
   "metadata": {},
   "outputs": [],
   "source": []
  }
 ],
 "metadata": {
  "kernelspec": {
   "display_name": "Python 3 (ipykernel)",
   "language": "python",
   "name": "python3"
  },
  "language_info": {
   "codemirror_mode": {
    "name": "ipython",
    "version": 3
   },
   "file_extension": ".py",
   "mimetype": "text/x-python",
   "name": "python",
   "nbconvert_exporter": "python",
   "pygments_lexer": "ipython3",
   "version": "3.13.1"
  }
 },
 "nbformat": 4,
 "nbformat_minor": 5
}
